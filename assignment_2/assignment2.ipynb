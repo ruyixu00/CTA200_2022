{
 "cells": [
  {
   "cell_type": "code",
   "execution_count": 29,
   "outputs": [],
   "source": [
    "# part 1\n",
    "x = float(input(\"Insert a value of x: \"))"
   ],
   "metadata": {
    "collapsed": false,
    "pycharm": {
     "name": "#%%\n"
    }
   }
  },
  {
   "cell_type": "code",
   "execution_count": 30,
   "outputs": [
    {
     "name": "stdout",
     "output_type": "stream",
     "text": [
      "3.0\n"
     ]
    }
   ],
   "source": [
    "# for any x value, value of f(x) is\n",
    "def f(x):\n",
    "    ans = x ** 3 + x ** 2 + 1\n",
    "    return ans\n",
    "print(f(x))"
   ],
   "metadata": {
    "collapsed": false,
    "pycharm": {
     "name": "#%%\n"
    }
   }
  },
  {
   "cell_type": "code",
   "execution_count": 31,
   "outputs": [
    {
     "name": "stdout",
     "output_type": "stream",
     "text": [
      "5.0\n"
     ]
    }
   ],
   "source": [
    "# for any x value, value of df(x) which is the 1st degree derivative of f(x) is\n",
    "def df(x):\n",
    "    ans = 3 * x ** 2 + 2 ** x\n",
    "    return ans\n",
    "print(df(x))\n"
   ],
   "metadata": {
    "collapsed": false,
    "pycharm": {
     "name": "#%%\n"
    }
   }
  },
  {
   "cell_type": "code",
   "execution_count": 32,
   "outputs": [],
   "source": [
    "def newton(f,df,x0,epsilon,max_iter):\n",
    "    '''estimated roots of f(x)=0 using newton's iteration.\n",
    "\n",
    "Parameters\n",
    "----------\n",
    "    f : function\n",
    "        function to perform the method on\n",
    "    Df : function\n",
    "        Derivative of f.\n",
    "    x0 : number\n",
    "        Initial guess for a root where f(x)=0.\n",
    "    epsilon : number\n",
    "        standard deviation for abs(f(x)) < epsilon.\n",
    "    max_iter : integer\n",
    "        Maximum number of iterations of Newton's method before stopping\n",
    "\n",
    "Returns\n",
    " -------\n",
    "    n : integer\n",
    "        number of tries before a solution is found within the given standard deviation\n",
    "    none: trivial\n",
    "    '''\n",
    "    xn = x0\n",
    "    for n in range(0, max_iter):\n",
    "        fxn = f(xn)\n",
    "        if abs(fxn) < epsilon:\n",
    "            print('solution found after',n,'iterations.')\n",
    "            return xn\n",
    "        dfxn = df(xn)\n",
    "        if dfxn == 0:\n",
    "            print('df(x)=0. No solutions.')\n",
    "            return None\n",
    "        xn = xn - fxn / dfxn\n",
    "    print('maximum iterations exceeded . No solutions.')\n",
    "    return None"
   ],
   "metadata": {
    "collapsed": false,
    "pycharm": {
     "name": "#%%\n"
    }
   }
  },
  {
   "cell_type": "code",
   "execution_count": 33,
   "outputs": [
    {
     "name": "stdout",
     "output_type": "stream",
     "text": [
      "Found solution after 5 iterations.\n",
      "1.4655713749070918\n"
     ]
    }
   ],
   "source": [
    "f = lambda x: x**3 - x**2 - 1\n",
    "df = lambda x: 3*x**2 - 2*x\n",
    "assignment2 = newton(f,df,1,1e-6,10)\n",
    "print(assignment2)"
   ],
   "metadata": {
    "collapsed": false,
    "pycharm": {
     "name": "#%%\n"
    }
   }
  },
  {
   "cell_type": "code",
   "execution_count": 34,
   "outputs": [
    {
     "name": "stdout",
     "output_type": "stream",
     "text": [
      "Found solution after 6 iterations.\n",
      "1.4655712318767877\n"
     ]
    }
   ],
   "source": [
    "assignment3 = newton(f,df,1,1e-8,10)\n",
    "print(assignment3)\n"
   ],
   "metadata": {
    "collapsed": false,
    "pycharm": {
     "name": "#%%\n"
    }
   }
  }
 ],
 "metadata": {
  "kernelspec": {
   "display_name": "Python 3",
   "language": "python",
   "name": "python3"
  },
  "language_info": {
   "codemirror_mode": {
    "name": "ipython",
    "version": 2
   },
   "file_extension": ".py",
   "mimetype": "text/x-python",
   "name": "python",
   "nbconvert_exporter": "python",
   "pygments_lexer": "ipython2",
   "version": "2.7.6"
  }
 },
 "nbformat": 4,
 "nbformat_minor": 0
}